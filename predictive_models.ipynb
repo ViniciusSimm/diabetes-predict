{
 "cells": [
  {
   "cell_type": "code",
   "execution_count": 1,
   "metadata": {},
   "outputs": [],
   "source": [
    "import numpy as np\n",
    "from sklearn import datasets\n",
    "import pandas as pd\n",
    "from sklearn.ensemble import RandomForestRegressor\n",
    "from sklearn.model_selection import train_test_split\n",
    "from sklearn.linear_model import LinearRegression\n",
    "from sklearn import metrics\n",
    "from sklearn.tree import DecisionTreeRegressor\n",
    "import statsmodels.api as sm\n",
    "from sklearn.svm import SVC, SVR\n",
    "from sklearn.dummy import DummyRegressor"
   ]
  },
  {
   "cell_type": "markdown",
   "metadata": {},
   "source": [
    "Train and Test functions"
   ]
  },
  {
   "cell_type": "code",
   "execution_count": 2,
   "metadata": {},
   "outputs": [],
   "source": [
    "def score_model(model,X_test,Y_test):\n",
    "    Y_predict = model.predict(X_test)\n",
    "    R2_score = metrics.r2_score(Y_test,Y_predict)\n",
    "    print(\"R2_score:\",R2_score)\n",
    "    MSE = metrics.mean_squared_error(Y_test,Y_predict)\n",
    "    MSE_sqrt = np.sqrt(MSE)\n",
    "    print(\"MSE:\",MSE_sqrt)\n",
    "    return R2_score, MSE_sqrt\n",
    "\n",
    "def train_model(model,X_train,Y_train):\n",
    "    model.fit(X_train,Y_train)\n",
    "    return model"
   ]
  },
  {
   "cell_type": "code",
   "execution_count": 3,
   "metadata": {},
   "outputs": [
    {
     "name": "stdout",
     "output_type": "stream",
     "text": [
      "Train size: 309\n",
      "Test size: 133\n",
      "Total: 442\n"
     ]
    }
   ],
   "source": [
    "X, Y = datasets.load_diabetes(return_X_y=True)\n",
    "full_database = pd.DataFrame(X,columns=['age','sex','bmi','bp','s1_tc','s2_ldl','s3_hdl','s4_tch','s5_ltg','s6_glu'])\n",
    "full_database['disease_progression'] = Y\n",
    "\n",
    "x = full_database.drop('disease_progression',axis=1)\n",
    "y = full_database['disease_progression']\n",
    "\n",
    "X_train,X_test,Y_train,Y_test = train_test_split(x,y,test_size=0.3,random_state=100)\n",
    "\n",
    "print(\"Train size:\", X_train.shape[0])\n",
    "print(\"Test size:\", X_test.shape[0])\n",
    "print(\"Total:\", X.shape[0])"
   ]
  },
  {
   "cell_type": "code",
   "execution_count": 4,
   "metadata": {},
   "outputs": [
    {
     "name": "stdout",
     "output_type": "stream",
     "text": [
      "Linear Regression:\n",
      "R2_score: 0.4929329680070459\n",
      "MSE: 51.83774341914194\n"
     ]
    }
   ],
   "source": [
    "print(\"Linear Regression:\")\n",
    "\n",
    "model_LR = LinearRegression()\n",
    "model_LR = train_model(model_LR,X_train,Y_train)\n",
    "R2_LR,MSE_LR = score_model(model_LR,X_test,Y_test)"
   ]
  },
  {
   "cell_type": "code",
   "execution_count": 5,
   "metadata": {},
   "outputs": [
    {
     "name": "stdout",
     "output_type": "stream",
     "text": [
      "Linear Regression without s1 and s4:\n",
      "R2_score: 0.49419934639731344\n",
      "MSE: 51.772971670702425\n"
     ]
    }
   ],
   "source": [
    "print(\"Linear Regression without s1 and s4:\")\n",
    "\n",
    "model_LR_2 = LinearRegression()\n",
    "model_LR_2 = train_model(model_LR_2,X_train.drop(['s1_tc','s4_tch'],axis=1),Y_train)\n",
    "R2_LR_2,MSE_LR_2 = score_model(model_LR_2,X_test.drop(['s1_tc','s4_tch'],axis=1),Y_test)"
   ]
  },
  {
   "cell_type": "code",
   "execution_count": 7,
   "metadata": {},
   "outputs": [
    {
     "name": "stdout",
     "output_type": "stream",
     "text": [
      "Ordinary Least Squares (statsmodels):\n"
     ]
    },
    {
     "data": {
      "text/html": [
       "<table class=\"simpletable\">\n",
       "<caption>OLS Regression Results</caption>\n",
       "<tr>\n",
       "  <th>Dep. Variable:</th>    <td>disease_progression</td> <th>  R-squared:         </th> <td>   0.518</td>\n",
       "</tr>\n",
       "<tr>\n",
       "  <th>Model:</th>                    <td>OLS</td>         <th>  Adj. R-squared:    </th> <td>   0.502</td>\n",
       "</tr>\n",
       "<tr>\n",
       "  <th>Method:</th>              <td>Least Squares</td>    <th>  F-statistic:       </th> <td>   32.01</td>\n",
       "</tr>\n",
       "<tr>\n",
       "  <th>Date:</th>              <td>Sun, 13 Mar 2022</td>   <th>  Prob (F-statistic):</th> <td>9.91e-42</td>\n",
       "</tr>\n",
       "<tr>\n",
       "  <th>Time:</th>                  <td>15:50:00</td>       <th>  Log-Likelihood:    </th> <td> -1673.8</td>\n",
       "</tr>\n",
       "<tr>\n",
       "  <th>No. Observations:</th>       <td>   309</td>        <th>  AIC:               </th> <td>   3370.</td>\n",
       "</tr>\n",
       "<tr>\n",
       "  <th>Df Residuals:</th>           <td>   298</td>        <th>  BIC:               </th> <td>   3411.</td>\n",
       "</tr>\n",
       "<tr>\n",
       "  <th>Df Model:</th>               <td>    10</td>        <th>                     </th>     <td> </td>   \n",
       "</tr>\n",
       "<tr>\n",
       "  <th>Covariance Type:</th>       <td>nonrobust</td>      <th>                     </th>     <td> </td>   \n",
       "</tr>\n",
       "</table>\n",
       "<table class=\"simpletable\">\n",
       "<tr>\n",
       "     <td></td>       <th>coef</th>     <th>std err</th>      <th>t</th>      <th>P>|t|</th>  <th>[0.025</th>    <th>0.975]</th>  \n",
       "</tr>\n",
       "<tr>\n",
       "  <th>const</th>  <td>  153.7556</td> <td>    3.166</td> <td>   48.569</td> <td> 0.000</td> <td>  147.526</td> <td>  159.986</td>\n",
       "</tr>\n",
       "<tr>\n",
       "  <th>age</th>    <td>  -25.0226</td> <td>   74.035</td> <td>   -0.338</td> <td> 0.736</td> <td> -170.719</td> <td>  120.674</td>\n",
       "</tr>\n",
       "<tr>\n",
       "  <th>sex</th>    <td> -205.0057</td> <td>   75.173</td> <td>   -2.727</td> <td> 0.007</td> <td> -352.943</td> <td>  -57.069</td>\n",
       "</tr>\n",
       "<tr>\n",
       "  <th>bmi</th>    <td>  572.7009</td> <td>   80.247</td> <td>    7.137</td> <td> 0.000</td> <td>  414.778</td> <td>  730.624</td>\n",
       "</tr>\n",
       "<tr>\n",
       "  <th>bp</th>     <td>  308.4990</td> <td>   76.720</td> <td>    4.021</td> <td> 0.000</td> <td>  157.517</td> <td>  459.481</td>\n",
       "</tr>\n",
       "<tr>\n",
       "  <th>s1_tc</th>  <td>-1000.9232</td> <td>  514.684</td> <td>   -1.945</td> <td> 0.053</td> <td>-2013.799</td> <td>   11.952</td>\n",
       "</tr>\n",
       "<tr>\n",
       "  <th>s2_ldl</th> <td>  606.5425</td> <td>  428.025</td> <td>    1.417</td> <td> 0.158</td> <td> -235.791</td> <td> 1448.876</td>\n",
       "</tr>\n",
       "<tr>\n",
       "  <th>s3_hdl</th> <td>  207.3958</td> <td>  251.698</td> <td>    0.824</td> <td> 0.411</td> <td> -287.934</td> <td>  702.726</td>\n",
       "</tr>\n",
       "<tr>\n",
       "  <th>s4_tch</th> <td>  135.2240</td> <td>  192.534</td> <td>    0.702</td> <td> 0.483</td> <td> -243.675</td> <td>  514.123</td>\n",
       "</tr>\n",
       "<tr>\n",
       "  <th>s5_ltg</th> <td>  902.9697</td> <td>  217.454</td> <td>    4.152</td> <td> 0.000</td> <td>  475.030</td> <td> 1330.910</td>\n",
       "</tr>\n",
       "<tr>\n",
       "  <th>s6_glu</th> <td>   55.5221</td> <td>   81.683</td> <td>    0.680</td> <td> 0.497</td> <td> -105.227</td> <td>  216.271</td>\n",
       "</tr>\n",
       "</table>\n",
       "<table class=\"simpletable\">\n",
       "<tr>\n",
       "  <th>Omnibus:</th>       <td> 1.316</td> <th>  Durbin-Watson:     </th> <td>   2.019</td>\n",
       "</tr>\n",
       "<tr>\n",
       "  <th>Prob(Omnibus):</th> <td> 0.518</td> <th>  Jarque-Bera (JB):  </th> <td>   1.287</td>\n",
       "</tr>\n",
       "<tr>\n",
       "  <th>Skew:</th>          <td> 0.059</td> <th>  Prob(JB):          </th> <td>   0.525</td>\n",
       "</tr>\n",
       "<tr>\n",
       "  <th>Kurtosis:</th>      <td> 2.707</td> <th>  Cond. No.          </th> <td>    230.</td>\n",
       "</tr>\n",
       "</table><br/><br/>Notes:<br/>[1] Standard Errors assume that the covariance matrix of the errors is correctly specified."
      ],
      "text/plain": [
       "<class 'statsmodels.iolib.summary.Summary'>\n",
       "\"\"\"\n",
       "                             OLS Regression Results                            \n",
       "===============================================================================\n",
       "Dep. Variable:     disease_progression   R-squared:                       0.518\n",
       "Model:                             OLS   Adj. R-squared:                  0.502\n",
       "Method:                  Least Squares   F-statistic:                     32.01\n",
       "Date:                 Sun, 13 Mar 2022   Prob (F-statistic):           9.91e-42\n",
       "Time:                         15:50:00   Log-Likelihood:                -1673.8\n",
       "No. Observations:                  309   AIC:                             3370.\n",
       "Df Residuals:                      298   BIC:                             3411.\n",
       "Df Model:                           10                                         \n",
       "Covariance Type:             nonrobust                                         \n",
       "==============================================================================\n",
       "                 coef    std err          t      P>|t|      [0.025      0.975]\n",
       "------------------------------------------------------------------------------\n",
       "const        153.7556      3.166     48.569      0.000     147.526     159.986\n",
       "age          -25.0226     74.035     -0.338      0.736    -170.719     120.674\n",
       "sex         -205.0057     75.173     -2.727      0.007    -352.943     -57.069\n",
       "bmi          572.7009     80.247      7.137      0.000     414.778     730.624\n",
       "bp           308.4990     76.720      4.021      0.000     157.517     459.481\n",
       "s1_tc      -1000.9232    514.684     -1.945      0.053   -2013.799      11.952\n",
       "s2_ldl       606.5425    428.025      1.417      0.158    -235.791    1448.876\n",
       "s3_hdl       207.3958    251.698      0.824      0.411    -287.934     702.726\n",
       "s4_tch       135.2240    192.534      0.702      0.483    -243.675     514.123\n",
       "s5_ltg       902.9697    217.454      4.152      0.000     475.030    1330.910\n",
       "s6_glu        55.5221     81.683      0.680      0.497    -105.227     216.271\n",
       "==============================================================================\n",
       "Omnibus:                        1.316   Durbin-Watson:                   2.019\n",
       "Prob(Omnibus):                  0.518   Jarque-Bera (JB):                1.287\n",
       "Skew:                           0.059   Prob(JB):                        0.525\n",
       "Kurtosis:                       2.707   Cond. No.                         230.\n",
       "==============================================================================\n",
       "\n",
       "Notes:\n",
       "[1] Standard Errors assume that the covariance matrix of the errors is correctly specified.\n",
       "\"\"\""
      ]
     },
     "execution_count": 7,
     "metadata": {},
     "output_type": "execute_result"
    }
   ],
   "source": [
    "print(\"Ordinary Least Squares (statsmodels):\")\n",
    "\n",
    "X_train_plus_constant = sm.add_constant(X_train)\n",
    "model_OLS = sm.OLS(Y_train,X_train_plus_constant,hasconst=True).fit()\n",
    "model_OLS.summary()"
   ]
  },
  {
   "cell_type": "code",
   "execution_count": 8,
   "metadata": {},
   "outputs": [
    {
     "name": "stdout",
     "output_type": "stream",
     "text": [
      "SVC model:\n",
      "R2_score: 0.09173594363744875\n",
      "MSE: 69.37763068235859\n"
     ]
    }
   ],
   "source": [
    "print(\"SVC model:\")\n",
    "\n",
    "model_SVC = SVC(max_iter=1000)\n",
    "model_SVC = train_model(model_SVC,X_train,Y_train)\n",
    "R2_SVC,MSE_SVC = score_model(model_SVC,X_test,Y_test)"
   ]
  },
  {
   "cell_type": "code",
   "execution_count": 9,
   "metadata": {},
   "outputs": [
    {
     "name": "stdout",
     "output_type": "stream",
     "text": [
      "SVC model without s1 and s4:\n",
      "R2_score: 0.20325372087558424\n",
      "MSE: 64.97905966916359\n"
     ]
    }
   ],
   "source": [
    "print(\"SVC model without s1 and s4:\")\n",
    "\n",
    "model_SVC_2 = SVC()\n",
    "model_SVC_2 = train_model(model_SVC_2,X_train.drop(['s1_tc','s4_tch'],axis=1),Y_train)\n",
    "R2_SVC_2,MSE_SVC_2 = score_model(model_SVC_2,X_test.drop(['s1_tc','s4_tch'],axis=1),Y_test)"
   ]
  },
  {
   "cell_type": "code",
   "execution_count": 10,
   "metadata": {},
   "outputs": [
    {
     "name": "stdout",
     "output_type": "stream",
     "text": [
      "SVR model:\n",
      "R2_score: 0.18511210145620693\n",
      "MSE: 65.7146704730941\n"
     ]
    }
   ],
   "source": [
    "print(\"SVR model:\")\n",
    "\n",
    "model_SVR = SVR()\n",
    "model_SVR = train_model(model_SVR,X_train,Y_train)\n",
    "R2_SVR,MSE_SVR = score_model(model_SVR,X_test,Y_test)"
   ]
  },
  {
   "cell_type": "code",
   "execution_count": 11,
   "metadata": {},
   "outputs": [
    {
     "name": "stdout",
     "output_type": "stream",
     "text": [
      "DummyRegressor:\n",
      "R2_score: -1.7932367515793857e-05\n",
      "MSE: 72.79763897683429\n"
     ]
    }
   ],
   "source": [
    "print(\"DummyRegressor:\")\n",
    "\n",
    "dummy = DummyRegressor(strategy=\"median\")\n",
    "dummy = train_model(dummy,X_train,Y_train)\n",
    "R2_dummy,MSE_dummy = score_model(dummy,X_test,Y_test)"
   ]
  },
  {
   "cell_type": "code",
   "execution_count": 12,
   "metadata": {},
   "outputs": [
    {
     "name": "stdout",
     "output_type": "stream",
     "text": [
      "Decision Tree Regressor:\n",
      "R2_score: -0.0004520855460765638\n",
      "MSE: 72.81343964187657\n"
     ]
    }
   ],
   "source": [
    "print(\"Decision Tree Regressor:\")\n",
    "\n",
    "model_tree = DecisionTreeRegressor(random_state=100)\n",
    "model_tree = train_model(model_tree,X_train,Y_train)\n",
    "R2_tree,MSE_tree = score_model(model_tree,X_test,Y_test)"
   ]
  },
  {
   "cell_type": "code",
   "execution_count": 13,
   "metadata": {},
   "outputs": [
    {
     "name": "stdout",
     "output_type": "stream",
     "text": [
      "Random Forest Regressor:\n",
      "R2_score: 0.4451330652545733\n",
      "MSE: 54.22603162009145\n"
     ]
    }
   ],
   "source": [
    "print(\"Random Forest Regressor:\")\n",
    "\n",
    "model_forest = RandomForestRegressor(random_state=100)\n",
    "model_forest = train_model(model_forest,X_train,Y_train)\n",
    "R2_forest,MSE_forest = score_model(model_forest,X_test,Y_test)"
   ]
  }
 ],
 "metadata": {
  "interpreter": {
   "hash": "051f523ea69bc1770ecd2306c10409abac68aa2062faba780e671356775dd235"
  },
  "kernelspec": {
   "display_name": "Python 3.8.8 ('base')",
   "language": "python",
   "name": "python3"
  },
  "language_info": {
   "codemirror_mode": {
    "name": "ipython",
    "version": 3
   },
   "file_extension": ".py",
   "mimetype": "text/x-python",
   "name": "python",
   "nbconvert_exporter": "python",
   "pygments_lexer": "ipython3",
   "version": "3.8.8"
  },
  "orig_nbformat": 4
 },
 "nbformat": 4,
 "nbformat_minor": 2
}
